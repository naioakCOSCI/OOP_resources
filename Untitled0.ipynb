{
  "nbformat": 4,
  "nbformat_minor": 0,
  "metadata": {
    "colab": {
      "name": "Untitled0.ipynb",
      "provenance": [],
      "authorship_tag": "ABX9TyOJNb7qpetwNWWeaN4Xzsqn",
      "include_colab_link": true
    },
    "kernelspec": {
      "name": "python3",
      "display_name": "Python 3"
    },
    "language_info": {
      "name": "python"
    }
  },
  "cells": [
    {
      "cell_type": "markdown",
      "metadata": {
        "id": "view-in-github",
        "colab_type": "text"
      },
      "source": [
        "<a href=\"https://colab.research.google.com/github/naioakCOSCI/OOP_resources/blob/master/Untitled0.ipynb\" target=\"_parent\"><img src=\"https://colab.research.google.com/assets/colab-badge.svg\" alt=\"Open In Colab\"/></a>"
      ]
    },
    {
      "cell_type": "code",
      "metadata": {
        "colab": {
          "base_uri": "https://localhost:8080/"
        },
        "id": "0VJlo3HUj5KZ",
        "outputId": "2397bb8c-24bb-4dfa-d301-43000a51a503"
      },
      "source": [
        "import pandas as pd\n",
        "df=pd.DataFrame({'X':[5,2,-3],'Y':[6,9,12]})\n",
        "print(df['Y'])"
      ],
      "execution_count": 1,
      "outputs": [
        {
          "output_type": "stream",
          "text": [
            "0     6\n",
            "1     9\n",
            "2    12\n",
            "Name: Y, dtype: int64\n"
          ],
          "name": "stdout"
        }
      ]
    }
  ]
}